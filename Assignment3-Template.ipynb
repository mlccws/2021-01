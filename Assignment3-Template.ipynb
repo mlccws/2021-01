{
 "cells": [
  {
   "cell_type": "code",
   "execution_count": null,
   "metadata": {},
   "outputs": [],
   "source": [
    "### ASSIGNMENT 3 ** MATH 1MP3, Spring 2022"
   ]
  },
  {
   "cell_type": "code",
   "execution_count": null,
   "metadata": {},
   "outputs": [],
   "source": [
    "#Question 1\n",
    "NAMES = [\"Alice\", \"Boz\", \"Cathy\", \"Dan\", \"Ed\", \"Frank\", \"Gary\", \"Helen\", \"Irene\", \"Jack\", \"Kelly\", \"Larry\" ]\n",
    "AGES = [20, 21, 18, 18, 19, 20, 20, 19, 19, 19, 22, 19]\n",
    "\n",
    "def combine_lists(NAMES, AGES):\n",
    "    \"\"\" Combine two lists into a dictionary\"\"\"\n",
    "    \n",
    "    \n",
    "    \n",
    "    \n",
    "    \n",
    "    \n",
    "    \n",
    "def people(age):\n",
    "    \"\"\"returns a list of names of all the people who are that age.\"\"\"\n",
    "    \n",
    "    \n",
    "    \n",
    "    \n",
    "    \n",
    "    \n",
    "    "
   ]
  },
  {
   "cell_type": "code",
   "execution_count": null,
   "metadata": {
    "scrolled": true
   },
   "outputs": [],
   "source": [
    "#Question 2\n",
    "\n",
    "def spell_number(n):\n",
    "    \"\"\" spell a given number between 1 and 9999\n",
    "    \"\"\"\n",
    "    \n",
    "    \n",
    "    \n",
    "    \n",
    "    \n",
    "print(spell_number(9307)) # should print nine thousand three hundred seven\n",
    "print(spell_number(5004)) # should print five thousand four\n",
    "print(spell_number(1616)) # should print one thousand six hundred sixteen\n",
    "print(spell_number(13)) # should print thirteen\n",
    "print(spell_number(906)) # should print nine hundred six\n",
    "print(spell_number(67)) # should print sixty seven\n",
    "print(spell_number(632)) # should print six hundred thirty two"
   ]
  },
  {
   "cell_type": "code",
   "execution_count": null,
   "metadata": {},
   "outputs": [],
   "source": [
    "#Question 3\n",
    "\n",
    "def concatenate_dict(d1,d2):\n",
    "    \"\"\" put two dictionaries together\n",
    "        if they contain the same key, add the corresponding values\n",
    "    \"\"\"\n",
    "\n",
    "    \n",
    "    \n",
    "    \n",
    "    \n",
    "print(concatenate_dict({'a':1,'b':2},{'d':4})) #should return {'a': 1, 'b': 2, 'd': 4}\n",
    "print(concatenate_dict({'a':1,'b':2,'d':4,'m':4},{'d':2,'e':7,'m':11})) #should return {'a': 1, 'b': 2, 'd': 6, 'm': 15, 'e': 7}\n",
    "print(concatenate_dict({'a':12},{'a':2})) #should return {'a': 14}"
   ]
  },
  {
   "cell_type": "code",
   "execution_count": null,
   "metadata": {},
   "outputs": [],
   "source": [
    "#Question 4\n",
    "\n",
    "def transitive_dict(d1,d2):\n",
    "    \"\"\" create a dictionary by transitivity\n",
    "    \"\"\"\n",
    "  \n",
    "\n",
    "\n",
    "\n",
    "    \n",
    "print(transitive_dict({2:3, 8:19, 6:4, 5:3},{2:5, 4:3, 3:9}))  #should return {2: 9, 6: 3, 5: 9}\n",
    "print(transitive_dict({2:3, 6:4, 5:3},{2:5, 6:9}))  #should return empty dictionary  \n",
    "print(transitive_dict({2:3, 3:3, 4:3},{3:2, 5:3, 6:9}))  #should return {2: 2, 3: 2, 4: 2}"
   ]
  },
  {
   "cell_type": "code",
   "execution_count": null,
   "metadata": {},
   "outputs": [],
   "source": []
  },
  {
   "cell_type": "code",
   "execution_count": null,
   "metadata": {},
   "outputs": [],
   "source": []
  }
 ],
 "metadata": {
  "kernelspec": {
   "display_name": "Python 3 (ipykernel)",
   "language": "python",
   "name": "python3"
  },
  "language_info": {
   "codemirror_mode": {
    "name": "ipython",
    "version": 3
   },
   "file_extension": ".py",
   "mimetype": "text/x-python",
   "name": "python",
   "nbconvert_exporter": "python",
   "pygments_lexer": "ipython3",
   "version": "3.9.10"
  }
 },
 "nbformat": 4,
 "nbformat_minor": 4
}
